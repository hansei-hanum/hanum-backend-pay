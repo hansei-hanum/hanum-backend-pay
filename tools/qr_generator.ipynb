{
 "cells": [
  {
   "cell_type": "code",
   "execution_count": 25,
   "metadata": {},
   "outputs": [],
   "source": [
    "import csv, itertools\n",
    "import qrcode\n",
    "import json\n",
    "import os\n",
    "\n",
    "start_id = 10\n",
    "os.makedirs('../qr_codes', exist_ok=True)\n",
    "\n",
    "target_size = (736, 736)\n",
    "\n",
    "for id, row in enumerate(itertools.islice(csv.reader(open('../wadawdaw.csv', 'r')), 1, None)):\n",
    "    id = start_id + id\n",
    "    name = row[1].strip()\n",
    "\n",
    "    data = {\n",
    "        'id': id,\n",
    "        'name': name,\n",
    "    }\n",
    "\n",
    "    qr = qrcode.QRCode(\n",
    "        border=0,\n",
    "    )\n",
    "    qr.add_data(json.dumps(data, ensure_ascii=False))\n",
    "    qr.make(fit=True)\n",
    "\n",
    "    img = qr.make_image(back_color=\"transparent\")\n",
    "    img = img.resize(target_size, resample=0)\n",
    "    img.save(f'../qr_codes/{id}_{name}.png')"
   ]
  }
 ],
 "metadata": {
  "kernelspec": {
   "display_name": "pt310",
   "language": "python",
   "name": "python3"
  },
  "language_info": {
   "codemirror_mode": {
    "name": "ipython",
    "version": 3
   },
   "file_extension": ".py",
   "mimetype": "text/x-python",
   "name": "python",
   "nbconvert_exporter": "python",
   "pygments_lexer": "ipython3",
   "version": "3.10.10"
  },
  "orig_nbformat": 4
 },
 "nbformat": 4,
 "nbformat_minor": 2
}
